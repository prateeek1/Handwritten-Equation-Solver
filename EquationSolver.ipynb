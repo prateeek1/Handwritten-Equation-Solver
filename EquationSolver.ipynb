{
 "cells": [
  {
   "cell_type": "markdown",
   "metadata": {},
   "source": [
    "# Equation Solver And Tkinter GUI"
   ]
  },
  {
   "cell_type": "code",
   "execution_count": 1,
   "metadata": {},
   "outputs": [
    {
     "name": "stdout",
     "output_type": "stream",
     "text": [
      "Loading Model...\n",
      "Loading weights...\n"
     ]
    }
   ],
   "source": [
    "from tensorflow.keras.models import model_from_json\n",
    "print('Loading Model...')\n",
    "model_json = open('model/model.json', 'r')\n",
    "loaded_model_json = model_json.read()\n",
    "model_json.close()\n",
    "model = model_from_json(loaded_model_json)\n",
    "\n",
    "print('Loading weights...')\n",
    "model.load_weights(\"model/model_weights.h5\")"
   ]
  },
  {
   "cell_type": "code",
   "execution_count": 2,
   "metadata": {},
   "outputs": [],
   "source": [
    "labels = [ '0', '1', '2', '3', '4', '5', '6', '7', '8', '9','+','-','x']"
   ]
  },
  {
   "cell_type": "code",
   "execution_count": 3,
   "metadata": {},
   "outputs": [],
   "source": [
    "from PIL import Image,ImageDraw,ImageGrab"
   ]
  },
  {
   "cell_type": "code",
   "execution_count": 4,
   "metadata": {},
   "outputs": [],
   "source": [
    "def activate_event(event):\n",
    "        global lasx,lasy\n",
    "        lasx,lasy=event.x,event.y   "
   ]
  },
  {
   "cell_type": "code",
   "execution_count": 5,
   "metadata": {},
   "outputs": [],
   "source": [
    "def draw_smth(event):\n",
    "    global lasx,lasy\n",
    "    cv.create_line((lasx,lasy,event.x,event.y),fill='black',width=4)\n",
    "    #cv.draw.line([x1, y1, x2, y2], fill=\"black\", width=7)\n",
    "    lasx,lasy=event.x,event.y"
   ]
  },
  {
   "cell_type": "code",
   "execution_count": 6,
   "metadata": {},
   "outputs": [],
   "source": [
    "def save():\n",
    "    filename=\"canvas.jpg\"\n",
    "    widget=cv\n",
    "    x=root.winfo_rootx()+widget.winfo_x()+50\n",
    "    y=root.winfo_rooty()+widget.winfo_y()+50\n",
    "    x1=x+widget.winfo_width()\n",
    "    y1=y+widget.winfo_height()\n",
    "    \n",
    "    ImageGrab.grab().crop((x,y,x1,y1)).save(filename)"
   ]
  },
  {
   "cell_type": "code",
   "execution_count": 7,
   "metadata": {},
   "outputs": [],
   "source": [
    "from sympy import *\n",
    "\n",
    "class Solver:\n",
    "\n",
    "    def __init__(self, equation):\n",
    "        self.equation = str(equation)\n",
    "        self.leftEqu = []\n",
    "\n",
    "    def convertEquationIntoGeneralForm(self):\n",
    "\n",
    "        leftSide, rightSide = '', ''\n",
    "        equalIndx = self.equation.index('=')\n",
    "        leftSide = self.equation[0:equalIndx]\n",
    "        rightSide = self.equation[equalIndx+1:len(self.equation)]\n",
    "\n",
    "        if rightSide[0].isalpha() or rightSide[0].isdigit():\n",
    "            rightSide = '+' + rightSide\n",
    "\n",
    "        for i in range(0, len(rightSide)):\n",
    "            if rightSide[i] == '+':\n",
    "                rightSide = rightSide[0:i] + '-' + rightSide[i+1:len(rightSide)]\n",
    "            elif rightSide[i] == '-':\n",
    "                rightSide = rightSide[0:i] + '+' + rightSide[i+1:len(rightSide)]\n",
    "            leftSide += rightSide[i]\n",
    "\n",
    "        self.equation = leftSide + '=' + '0'\n",
    "        self.leftEqu = leftSide\n",
    "\n",
    "    def solveEquation(self):\n",
    "\n",
    "        self.convertEquationIntoGeneralForm()\n",
    "        sympy_eq = sympify(\"Eq(\" + self.equation.replace(\"=\", \",\") + \")\")\n",
    "        roots = solve(sympy_eq)\n",
    "        \n",
    "        return roots      "
   ]
  },
  {
   "cell_type": "code",
   "execution_count": 8,
   "metadata": {},
   "outputs": [],
   "source": [
    "def predictFromArray(arr):\n",
    "    result = model.predict_classes(arr)\n",
    "    return result                    "
   ]
  },
  {
   "cell_type": "code",
   "execution_count": 9,
   "metadata": {},
   "outputs": [],
   "source": [
    "def solution():\n",
    "    img = cv2.imread('canvas.jpg',cv2.IMREAD_GRAYSCALE)\n",
    "    img = ~img\n",
    "    ret,thresh = cv2.threshold(img,127, 255,cv2.THRESH_BINARY)\n",
    "    ctrs,_ = cv2.findContours(thresh, cv2.RETR_EXTERNAL, cv2.CHAIN_APPROX_SIMPLE)\n",
    "    cnt = sorted(ctrs, key=lambda ctr: cv2.boundingRect(ctr)[0])\n",
    "    img_data = []\n",
    "    rects = []\n",
    "    for c in cnt :\n",
    "        x, y, w, h = cv2.boundingRect(c)\n",
    "        rect = [x, y, w, h]\n",
    "        rects.append(rect)\n",
    "    final_rect = [i for i in rects]\n",
    "    for r in final_rect:\n",
    "        x,y,w,h = r[0],r[1],r[2],r[3]\n",
    "        img = thresh[y:y+h+10, x:x+w+10]\n",
    "        img = cv2.resize(img, (28, 28)) \n",
    "        img = np.reshape(img, (1, 28, 28)) \n",
    "        img_data.append(img)\n",
    "        \n",
    "    mainEquation=[]\n",
    "    operation = ''\n",
    "    for i in range(len(img_data)):\n",
    "                img_data[i] = np.array(img_data[i])\n",
    "                img_data[i] = img_data[i].reshape(-1, 28, 28, 1)\n",
    "                result=predictFromArray(img_data[i])\n",
    "                i=result[0]\n",
    "                mainEquation.append(labels[i])\n",
    "        \n",
    "    StringEquation=\"\"\n",
    "    for i in range(len(mainEquation)):\n",
    "            a=mainEquation[i]\n",
    "            if(a.isdigit()==False and a.isalpha()==False and i<len(mainEquation)-1):\n",
    "                if(a==mainEquation[i+1]=='-'):\n",
    "                    StringEquation+='='\n",
    "                else:\n",
    "                    StringEquation+=a\n",
    "            if(a.isalpha()==True):\n",
    "                if(i>0):\n",
    "                    if(mainEquation[i-1].isdigit()):\n",
    "                        StringEquation+=\"*\"+a\n",
    "                    else:\n",
    "                        StringEquation+=a\n",
    "                else:\n",
    "                    StringEquation+=a\n",
    "            if(a.isdigit()==True):\n",
    "                if(i>0):\n",
    "                    if(mainEquation[i-1].isdigit()):\n",
    "                        StringEquation+=a\n",
    "                    elif(mainEquation[i-1].isalpha()):\n",
    "                         StringEquation+=\"^\"+a\n",
    "                    else:\n",
    "                        StringEquation+=a\n",
    "                else:\n",
    "                    StringEquation+=a\n",
    "            \n",
    "    newStr=\"\"\n",
    "    l=list(StringEquation)   \n",
    "    for i in range(len(l)):\n",
    "            if(l[i]==\"=\"):\n",
    "                newStr=l[:i+1]+l[i+2:]\n",
    "    print(newStr)\n",
    "    equ=\"\"\n",
    "    for i in newStr:\n",
    "            equ+=i\n",
    "    solution=Solver(equ)\n",
    "            \n",
    "    str1=''        \n",
    "    roots=solution.solveEquation()\n",
    "    st=[]\n",
    "    for i in roots:\n",
    "        i=str(i)\n",
    "        st.append(i)\n",
    "       \n",
    "    str1=', '.join(st)\n",
    " \n",
    "    solving(equ,str1)      "
   ]
  },
  {
   "cell_type": "code",
   "execution_count": 10,
   "metadata": {},
   "outputs": [],
   "source": [
    "from tkinter import*\n",
    "\n",
    "root=Tk()\n",
    "root.resizable(0,0)\n",
    "root.title('Equation Solver')\n",
    "\n",
    "lasx,lasy=None,None\n",
    "\n",
    "cv=Canvas(root,width=1200,height=500,bg='white')\n",
    "#cv=Canvas(root,width=1600,height=500,bg='white')\n",
    "cv.grid(row=0,column=0,pady=2,sticky=W,columnspan=2)\n",
    "cve2=Label(root)\n",
    "cve=Label(root,font=(\"Helvetica\",16))\n",
    "cve.grid(row=0, column=1,pady=1, padx=1)\n",
    "cve2.grid(row=1, column=1,pady=1, padx=1)\n",
    "\n",
    "cv.bind('<Button-1>',activate_event)\n",
    "cv.bind('<B1-Motion>',draw_smth)\n",
    "btn_save=Button(text=\"Save\",command=save,bg='#6495ED',fg='White')\n",
    "btn_save.grid(row=2,column=0,pady=1,padx=1)\n",
    "\n",
    "btn_predict=Button(text=\"Predict\",command=solution,bg='#6495ED',fg='White')\n",
    "btn_predict.grid(row=2,column=1,pady=1,padx=1)\n",
    "\n",
    "\n",
    "def solving(equ,roots):\n",
    "    \n",
    "    cve2.configure(text='Your Equation is : '+equ)\n",
    "    cve.configure(text='Result : '+(roots)+'\\n')    \n",
    "root.mainloop()"
   ]
  }
 ],
 "metadata": {
  "kernelspec": {
   "display_name": "Python 3",
   "language": "python",
   "name": "python3"
  },
  "language_info": {
   "codemirror_mode": {
    "name": "ipython",
    "version": 3
   },
   "file_extension": ".py",
   "mimetype": "text/x-python",
   "name": "python",
   "nbconvert_exporter": "python",
   "pygments_lexer": "ipython3",
   "version": "3.8.3"
  }
 },
 "nbformat": 4,
 "nbformat_minor": 4
}
