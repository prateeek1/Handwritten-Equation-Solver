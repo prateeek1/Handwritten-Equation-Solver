{
 "cells": [
  {
   "cell_type": "markdown",
   "metadata": {},
   "source": [
    "# Loading Dataset"
   ]
  },
  {
   "cell_type": "code",
   "execution_count": 1,
   "metadata": {},
   "outputs": [],
   "source": [
    "import numpy as np\n",
    "import pandas as pd\n",
    "import cv2\n",
    "import os\n",
    "from os import listdir\n",
    "from os.path import join\n",
    "import matplotlib.pyplot as plt"
   ]
  },
  {
   "cell_type": "code",
   "execution_count": 2,
   "metadata": {},
   "outputs": [],
   "source": [
    "index_dir={'0':0,'1':1,'2':2,'3':3,'4':4,'5':5,'6':6,'7':7,'8':8,'9':9,'+':10,'-':11,'times':12}"
   ]
  },
  {
   "cell_type": "code",
   "execution_count": 3,
   "metadata": {},
   "outputs": [],
   "source": [
    "def get_index(directory):\n",
    "    return index_dir[directory]\n",
    "\n",
    "def load_images(folder):\n",
    "    train_data = []\n",
    "\n",
    "    for filename in os.listdir(folder):\n",
    "        img = cv2.imread(os.path.join(folder,filename), cv2.IMREAD_GRAYSCALE) \n",
    "        #img = ~img\n",
    "        if img is not None:\n",
    "            img = ~img\n",
    "            _, img = cv2.threshold(img, 127, 255, cv2.THRESH_BINARY)\n",
    "            ctrs, _ = cv2.findContours(img, cv2.RETR_EXTERNAL, cv2.CHAIN_APPROX_NONE)\n",
    "            cnt = sorted(ctrs, key=lambda ctr: cv2.boundingRect(ctr)[0]) \n",
    "            m = 0\n",
    "            for c in cnt:\n",
    "                x, y, w, h = cv2.boundingRect(c)\n",
    "                m = max(w*h, m)\n",
    "                if m == w*h:\n",
    "                    x_max,y_max,w_max,h_max=x,y,w,h\n",
    "            im_crop = img[y_max:y_max+h_max+10, x_max:x_max+w_max+10] \n",
    "            im_resize = cv2.resize(im_crop, (28, 28)) \n",
    "            im_resize = np.reshape(im_resize, (784, 1)) \n",
    "            train_data.append(im_resize)\n",
    "    return train_data"
   ]
  },
  {
   "cell_type": "code",
   "execution_count": 5,
   "metadata": {},
   "outputs": [
    {
     "name": "stdout",
     "output_type": "stream",
     "text": [
      "Imporitng...\n",
      "+\n",
      "-\n",
      "0\n",
      "1\n",
      "2\n",
      "3\n",
      "4\n",
      "5\n",
      "6\n",
      "7\n",
      "8\n",
      "9\n",
      "times\n"
     ]
    }
   ],
   "source": [
    "dataset_dir = './dataset/'\n",
    "directory_list = listdir(dataset_dir)\n",
    "#print(directory_list)\n",
    "first = True\n",
    "data = []\n",
    "print('Imporitng...')\n",
    "for directory in directory_list:\n",
    "        print(directory)\n",
    "        if first:\n",
    "            first = False\n",
    "            data = load_images(dataset_dir + directory)\n",
    "            for i in range(0, len(data)):\n",
    "                data[i] = np.append(data[i], [str(get_index(directory))])\n",
    "            continue\n",
    "\n",
    "        auxillary_data = load_images(dataset_dir + directory)\n",
    "        for i in range(0, len(auxillary_data)):\n",
    "            auxillary_data[i] = np.append(auxillary_data[i], [str(get_index(directory))])\n",
    "        data = np.concatenate((data, auxillary_data))\n",
    "\n",
    "df=pd.DataFrame(data,index=None)\n",
    "df.to_csv('model/train_data.csv',index=False)"
   ]
  },
  {
   "cell_type": "code",
   "execution_count": null,
   "metadata": {},
   "outputs": [],
   "source": []
  }
 ],
 "metadata": {
  "kernelspec": {
   "display_name": "Python 3",
   "language": "python",
   "name": "python3"
  },
  "language_info": {
   "codemirror_mode": {
    "name": "ipython",
    "version": 3
   },
   "file_extension": ".py",
   "mimetype": "text/x-python",
   "name": "python",
   "nbconvert_exporter": "python",
   "pygments_lexer": "ipython3",
   "version": "3.8.3"
  }
 },
 "nbformat": 4,
 "nbformat_minor": 4
}
