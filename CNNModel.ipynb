{
 "cells": [
  {
   "cell_type": "markdown",
   "metadata": {},
   "source": [
    "# Convolutional Neural Network"
   ]
  },
  {
   "cell_type": "code",
   "execution_count": 1,
   "metadata": {},
   "outputs": [
    {
     "name": "stdout",
     "output_type": "stream",
     "text": [
      "47504\n",
      "38003\n",
      "38003\n",
      "9501\n"
     ]
    }
   ],
   "source": [
    "import pandas as pd\n",
    "import numpy as np\n",
    "from sklearn.model_selection import train_test_split\n",
    "\n",
    "df_train = pd.read_csv('model/train_data.csv', index_col = False)\n",
    "labels = df_train[['784']]\n",
    "df_train.head()\n",
    "\n",
    "df_train.drop(df_train.columns[[784]], axis=1, inplace=True)\n",
    "np.random.seed(1212)\n",
    "from tensorflow import keras\n",
    "from tensorflow.keras import layers\n",
    "from tensorflow.keras.utils import to_categorical\n",
    "import tensorflow.keras.backend as K\n",
    "\n",
    "labels = np.array(labels)\n",
    "from tensorflow.keras.utils import to_categorical\n",
    "categorical_data = to_categorical(labels, num_classes = 13)\n",
    "\n",
    "l = []\n",
    "for i in range(df_train.shape[0]):\n",
    "    l.append(np.array(df_train[i:i+1]).reshape(28, 28, 1))\n",
    "    \n",
    "print(len(l))    \n",
    "train_X, test_X, train_y, test_y = train_test_split(np.array(l), categorical_data, test_size=0.20, random_state=42)\n",
    "\n",
    "print(len(train_X))\n",
    "print(len(train_y))\n",
    "print(len(test_X))\n",
    "\n",
    "np.random.seed(7)"
   ]
  },
  {
   "cell_type": "code",
   "execution_count": 2,
   "metadata": {},
   "outputs": [
    {
     "name": "stdout",
     "output_type": "stream",
     "text": [
      "Epoch 1/10\n",
      "143/143 [==============================] - 18s 119ms/step - loss: 5.8165 - accuracy: 0.3007 - val_loss: 0.6709 - val_accuracy: 0.7932\n",
      "Epoch 2/10\n",
      "143/143 [==============================] - 14s 99ms/step - loss: 0.6946 - accuracy: 0.7864 - val_loss: 0.3376 - val_accuracy: 0.9010\n",
      "Epoch 3/10\n",
      "143/143 [==============================] - 14s 97ms/step - loss: 0.4093 - accuracy: 0.8723 - val_loss: 0.2065 - val_accuracy: 0.9403\n",
      "Epoch 4/10\n",
      "143/143 [==============================] - 14s 98ms/step - loss: 0.2844 - accuracy: 0.9137 - val_loss: 0.1562 - val_accuracy: 0.9559\n",
      "Epoch 5/10\n",
      "143/143 [==============================] - 15s 106ms/step - loss: 0.2120 - accuracy: 0.9363 - val_loss: 0.1147 - val_accuracy: 0.9680\n",
      "Epoch 6/10\n",
      "143/143 [==============================] - 15s 108ms/step - loss: 0.1644 - accuracy: 0.9495 - val_loss: 0.0975 - val_accuracy: 0.9731\n",
      "Epoch 7/10\n",
      "143/143 [==============================] - 15s 108ms/step - loss: 0.1327 - accuracy: 0.9595 - val_loss: 0.0890 - val_accuracy: 0.9765\n",
      "Epoch 8/10\n",
      "143/143 [==============================] - 16s 110ms/step - loss: 0.1189 - accuracy: 0.9618 - val_loss: 0.0799 - val_accuracy: 0.9768\n",
      "Epoch 9/10\n",
      "143/143 [==============================] - 15s 106ms/step - loss: 0.1039 - accuracy: 0.9673 - val_loss: 0.0701 - val_accuracy: 0.9818\n",
      "Epoch 10/10\n",
      "143/143 [==============================] - 15s 107ms/step - loss: 0.0963 - accuracy: 0.9699 - val_loss: 0.0763 - val_accuracy: 0.9795\n"
     ]
    },
    {
     "data": {
      "text/plain": [
       "<tensorflow.python.keras.callbacks.History at 0x2e895a90ac0>"
      ]
     },
     "execution_count": 2,
     "metadata": {},
     "output_type": "execute_result"
    }
   ],
   "source": [
    "model = keras.Sequential([\n",
    "    layers.Conv2D(30, (5, 5), input_shape=(28, 28, 1), activation='relu'), \n",
    "    layers.MaxPool2D(pool_size=2), \n",
    "    layers.Conv2D(15, (3, 3), activation='relu'), \n",
    "    layers.MaxPool2D(pool_size=2), \n",
    "    layers.Dropout(0.2), \n",
    "    layers.Flatten(), \n",
    "    layers.Dense(128, activation='relu'), \n",
    "    layers.Dense(50, activation='relu'), \n",
    "    layers.Dense(13, activation='softmax'), \n",
    "])\n",
    "model.compile(loss='categorical_crossentropy', optimizer='adam', metrics=['accuracy'])\n",
    "#from tensorflow.keras.models import model_from_json\n",
    "\n",
    "model.fit(train_X, train_y, validation_split=0.25, epochs=10, batch_size=200, shuffle=True, verbose=1)"
   ]
  },
  {
   "cell_type": "code",
   "execution_count": 3,
   "metadata": {},
   "outputs": [
    {
     "name": "stdout",
     "output_type": "stream",
     "text": [
      "297/297 [==============================] - 2s 8ms/step - loss: 0.0807 - accuracy: 0.9825\n"
     ]
    },
    {
     "data": {
      "text/plain": [
       "[0.08072315156459808, 0.9825281500816345]"
      ]
     },
     "execution_count": 3,
     "metadata": {},
     "output_type": "execute_result"
    }
   ],
   "source": [
    "model.evaluate(test_X, test_y)"
   ]
  },
  {
   "cell_type": "code",
   "execution_count": 4,
   "metadata": {},
   "outputs": [
    {
     "name": "stdout",
     "output_type": "stream",
     "text": [
      "Model: \"sequential\"\n",
      "_________________________________________________________________\n",
      "Layer (type)                 Output Shape              Param #   \n",
      "=================================================================\n",
      "conv2d (Conv2D)              (None, 24, 24, 30)        780       \n",
      "_________________________________________________________________\n",
      "max_pooling2d (MaxPooling2D) (None, 12, 12, 30)        0         \n",
      "_________________________________________________________________\n",
      "conv2d_1 (Conv2D)            (None, 10, 10, 15)        4065      \n",
      "_________________________________________________________________\n",
      "max_pooling2d_1 (MaxPooling2 (None, 5, 5, 15)          0         \n",
      "_________________________________________________________________\n",
      "dropout (Dropout)            (None, 5, 5, 15)          0         \n",
      "_________________________________________________________________\n",
      "flatten (Flatten)            (None, 375)               0         \n",
      "_________________________________________________________________\n",
      "dense (Dense)                (None, 128)               48128     \n",
      "_________________________________________________________________\n",
      "dense_1 (Dense)              (None, 50)                6450      \n",
      "_________________________________________________________________\n",
      "dense_2 (Dense)              (None, 13)                663       \n",
      "=================================================================\n",
      "Total params: 60,086\n",
      "Trainable params: 60,086\n",
      "Non-trainable params: 0\n",
      "_________________________________________________________________\n"
     ]
    }
   ],
   "source": [
    "model.summary()"
   ]
  },
  {
   "cell_type": "code",
   "execution_count": 5,
   "metadata": {},
   "outputs": [],
   "source": [
    "from tensorflow.keras.models import model_from_json"
   ]
  },
  {
   "cell_type": "code",
   "execution_count": 6,
   "metadata": {},
   "outputs": [],
   "source": [
    "model_json = model.to_json()\n",
    "with open('model/model.json', 'w') as json_file:\n",
    "    json_file.write(model_json)\n",
    "model.save_weights('model/model_weights.h5')"
   ]
  }
 ],
 "metadata": {
  "kernelspec": {
   "display_name": "Python 3",
   "language": "python",
   "name": "python3"
  },
  "language_info": {
   "codemirror_mode": {
    "name": "ipython",
    "version": 3
   },
   "file_extension": ".py",
   "mimetype": "text/x-python",
   "name": "python",
   "nbconvert_exporter": "python",
   "pygments_lexer": "ipython3",
   "version": "3.8.3"
  }
 },
 "nbformat": 4,
 "nbformat_minor": 4
}
